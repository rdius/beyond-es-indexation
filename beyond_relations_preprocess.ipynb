{
 "cells": [
  {
   "cell_type": "code",
   "execution_count": 1,
   "metadata": {},
   "outputs": [],
   "source": [
    "import pandas as pd\n",
    "import json"
   ]
  },
  {
   "cell_type": "markdown",
   "metadata": {},
   "source": [
    "### Load data and set correponding cols"
   ]
  },
  {
   "cell_type": "code",
   "execution_count": 2,
   "metadata": {},
   "outputs": [],
   "source": [
    "cols_h=['batch', 'pmid', 'section', 'taxid', 'form_microorganism' , 'lemma_microorganism',\n",
    "                                  'canonical_microorganism' , 'paths_microorganism' , 'obtid_habitat' , 'form_habitat' , 'lemma_phenotype', \n",
    "                                  'canonical_habitat' , 'paths_habitat' , 'offset_microorganism', 'offset_habitat']"
   ]
  },
  {
   "cell_type": "code",
   "execution_count": 3,
   "metadata": {},
   "outputs": [
    {
     "name": "stderr",
     "output_type": "stream",
     "text": [
      "/home/rodrique/anaconda3/lib/python3.7/site-packages/IPython/core/interactiveshell.py:3553: DtypeWarning: Columns (0,1) have mixed types.Specify dtype option on import or set low_memory=False.\n",
      "  exec(code_obj, self.user_global_ns, self.user_ns)\n"
     ]
    }
   ],
   "source": [
    "relations = \"./data-examples/relations.full.tsv\"\n",
    "mi_hbt_data = pd.read_csv(relations, delimiter='\\t', names=cols_h)\n",
    "\n",
    "mi_hbt_data = mi_hbt_data[mi_hbt_data['form_microorganism'].notnull()]"
   ]
  },
  {
   "cell_type": "code",
   "execution_count": 4,
   "metadata": {},
   "outputs": [
    {
     "data": {
      "text/plain": [
       "9846264"
      ]
     },
     "execution_count": 4,
     "metadata": {},
     "output_type": "execute_result"
    }
   ],
   "source": [
    "len(mi_hbt_data)"
   ]
  },
  {
   "cell_type": "code",
   "execution_count": 2,
   "metadata": {},
   "outputs": [],
   "source": [
    "# mi_hbt_data[mi_hbt_data['form_habitat'] == 'Argentina']"
   ]
  },
  {
   "cell_type": "code",
   "execution_count": null,
   "metadata": {},
   "outputs": [],
   "source": []
  },
  {
   "cell_type": "code",
   "execution_count": 17,
   "metadata": {},
   "outputs": [
    {
     "data": {
      "text/plain": [
       "9846264"
      ]
     },
     "execution_count": 17,
     "metadata": {},
     "output_type": "execute_result"
    }
   ],
   "source": [
    "len(mi_hbt_data)"
   ]
  },
  {
   "cell_type": "code",
   "execution_count": 18,
   "metadata": {},
   "outputs": [
    {
     "data": {
      "text/plain": [
       "9463901"
      ]
     },
     "execution_count": 18,
     "metadata": {},
     "output_type": "execute_result"
    }
   ],
   "source": [
    "mi_hbt_data = mi_hbt_data.drop_duplicates()\n",
    "len(mi_hbt_data)"
   ]
  },
  {
   "cell_type": "code",
   "execution_count": null,
   "metadata": {},
   "outputs": [],
   "source": []
  },
  {
   "cell_type": "code",
   "execution_count": 19,
   "metadata": {},
   "outputs": [],
   "source": [
    "mi_hbt_data.fillna('', inplace=True)"
   ]
  },
  {
   "cell_type": "code",
   "execution_count": 27,
   "metadata": {},
   "outputs": [],
   "source": [
    "mi_pheno = \"./data-examples/phenotype-relations.full.tsv\"\n",
    "mi_pheno_data = pd.read_csv(mi_pheno, delimiter='\\t',\n",
    "                           names=['batch', 'pmid', 'section', 'taxid', 'form_microorganism' , 'lemma_microorganism',\n",
    "                                  'canonical_microorganism' , 'paths_microorganism' , 'obtid_phenotye' , 'form_phenotype' , 'lemma_phenotype', \n",
    "                                  'canonical_phenotype' , 'paths_phenotype' , 'offset_microorganism', 'offset_phenotype'])"
   ]
  },
  {
   "cell_type": "code",
   "execution_count": 28,
   "metadata": {},
   "outputs": [],
   "source": [
    "# mi_pheno_data = mi_pheno_data[:1000]#.head(1000) \n",
    "mi_pheno_data.fillna('', inplace=True)"
   ]
  },
  {
   "cell_type": "code",
   "execution_count": 29,
   "metadata": {},
   "outputs": [
    {
     "data": {
      "text/plain": [
       "496000"
      ]
     },
     "execution_count": 29,
     "metadata": {},
     "output_type": "execute_result"
    }
   ],
   "source": [
    "len(mi_pheno_data)"
   ]
  },
  {
   "cell_type": "code",
   "execution_count": 30,
   "metadata": {},
   "outputs": [
    {
     "data": {
      "text/plain": [
       "495790"
      ]
     },
     "execution_count": 30,
     "metadata": {},
     "output_type": "execute_result"
    }
   ],
   "source": [
    "mi_pheno_data = mi_pheno_data.drop_duplicates()\n",
    "len(mi_pheno_data)"
   ]
  },
  {
   "cell_type": "code",
   "execution_count": 1,
   "metadata": {},
   "outputs": [],
   "source": [
    "# mi_pheno_data.head()"
   ]
  },
  {
   "cell_type": "code",
   "execution_count": 31,
   "metadata": {},
   "outputs": [],
   "source": [
    "mi_use = \"./data-examples/uses-relations.full.tsv\"\n",
    "mi_use_data = pd.read_csv(mi_use, delimiter='\\t',\n",
    "                         names=['batch', 'pmid', 'section', 'taxid', 'form_microorganism' , 'lemma_microorganism',\n",
    "                                'canonical_microorganism' , 'paths_microorganism' , 'obtid_use' , \n",
    "                                'form_use','lemma_use', 'canonical_use', 'paths_use' , 'offset_microorganism', 'offset_use' ])"
   ]
  },
  {
   "cell_type": "code",
   "execution_count": 32,
   "metadata": {
    "collapsed": true,
    "jupyter": {
     "outputs_hidden": true
    }
   },
   "outputs": [
    {
     "data": {
      "text/plain": [
       "142012"
      ]
     },
     "execution_count": 32,
     "metadata": {},
     "output_type": "execute_result"
    }
   ],
   "source": [
    "mi_use_data = mi_use_data.drop_duplicates()\n",
    "len(mi_use_data)"
   ]
  },
  {
   "cell_type": "code",
   "execution_count": 33,
   "metadata": {},
   "outputs": [
    {
     "data": {
      "text/plain": [
       "10101703"
      ]
     },
     "execution_count": 33,
     "metadata": {},
     "output_type": "execute_result"
    }
   ],
   "source": [
    "len(mi_use_data) + len(mi_pheno_data) +len(mi_hbt_data)"
   ]
  },
  {
   "cell_type": "code",
   "execution_count": 53,
   "metadata": {},
   "outputs": [],
   "source": [
    "mi_use_data.fillna('', inplace=True)\n",
    "# mi_use_data.head()"
   ]
  },
  {
   "cell_type": "code",
   "execution_count": null,
   "metadata": {},
   "outputs": [],
   "source": []
  },
  {
   "cell_type": "markdown",
   "metadata": {},
   "source": [
    "### Build the Jsonl file, data to be indexed"
   ]
  },
  {
   "cell_type": "code",
   "execution_count": 4,
   "metadata": {},
   "outputs": [],
   "source": [
    "def saveToJsonl(mtd, outfilename):\n",
    "    with open(outfilename, 'a+', encoding='utf8') as outfile:\n",
    "        #for entry in JSON_file:\n",
    "        json.dump(mtd, outfile, ensure_ascii=False)\n",
    "        outfile.write('\\n')"
   ]
  },
  {
   "cell_type": "code",
   "execution_count": 38,
   "metadata": {},
   "outputs": [],
   "source": [
    "###### uniq relation ############\n",
    "def filterDb(df):\n",
    "    filtered_df = df[df['form_microorganism'].notnull()]\n",
    "    filtered_df_dic = filtered_df.to_dict('records')    \n",
    "    return filtered_df_dic"
   ]
  },
  {
   "cell_type": "code",
   "execution_count": null,
   "metadata": {},
   "outputs": [],
   "source": []
  },
  {
   "cell_type": "code",
   "execution_count": 39,
   "metadata": {},
   "outputs": [],
   "source": [
    "filtered_df_dich = filterDb(mi_hbt_data)"
   ]
  },
  {
   "cell_type": "code",
   "execution_count": 40,
   "metadata": {},
   "outputs": [],
   "source": [
    "filtered_df_dicph = filterDb(mi_pheno_data)"
   ]
  },
  {
   "cell_type": "code",
   "execution_count": 41,
   "metadata": {},
   "outputs": [],
   "source": [
    "filtered_df_dicu = filterDb(mi_use_data)"
   ]
  },
  {
   "cell_type": "code",
   "execution_count": 5,
   "metadata": {},
   "outputs": [],
   "source": [
    "# filtered_df_dich"
   ]
  },
  {
   "cell_type": "code",
   "execution_count": 42,
   "metadata": {},
   "outputs": [],
   "source": [
    "# filtered_df_dic\n",
    "listOfmicroh = []\n",
    "listOfmicroph = []\n",
    "listOfmicrouse = []\n",
    "# D['microorganism'] = []\n",
    "for d in filtered_df_dich:\n",
    "    Dh = {}\n",
    "    Dh['document'] = d\n",
    "    listOfmicroh.append(Dh)\n",
    "    \n",
    "for d in filtered_df_dicph:\n",
    "    Dph = {}\n",
    "    Dph['document'] = d\n",
    "    listOfmicroph.append(Dph)\n",
    "    \n",
    "for d in filtered_df_dicu:\n",
    "    Du = {}\n",
    "    Du['document'] = d\n",
    "    listOfmicrouse.append(Du)"
   ]
  },
  {
   "cell_type": "code",
   "execution_count": 43,
   "metadata": {},
   "outputs": [],
   "source": [
    "for mtdh in listOfmicroh:\n",
    "    saveToJsonl(mtdh,'beyond_db_relations_full.jsonl')"
   ]
  },
  {
   "cell_type": "code",
   "execution_count": 44,
   "metadata": {},
   "outputs": [],
   "source": [
    "for mtdph in listOfmicroph:\n",
    "    saveToJsonl(mtdph,'beyond_db_relations_full.jsonl')"
   ]
  },
  {
   "cell_type": "code",
   "execution_count": 45,
   "metadata": {},
   "outputs": [],
   "source": [
    "for mtdu in listOfmicrouse:\n",
    "    saveToJsonl(mtdu,'beyond_db_relations_full.jsonl')"
   ]
  },
  {
   "cell_type": "code",
   "execution_count": null,
   "metadata": {},
   "outputs": [],
   "source": []
  }
 ],
 "metadata": {
  "kernelspec": {
   "display_name": "Python 3 (ipykernel)",
   "language": "python",
   "name": "python3"
  },
  "language_info": {
   "codemirror_mode": {
    "name": "ipython",
    "version": 3
   },
   "file_extension": ".py",
   "mimetype": "text/x-python",
   "name": "python",
   "nbconvert_exporter": "python",
   "pygments_lexer": "ipython3",
   "version": "3.7.7"
  }
 },
 "nbformat": 4,
 "nbformat_minor": 4
}
