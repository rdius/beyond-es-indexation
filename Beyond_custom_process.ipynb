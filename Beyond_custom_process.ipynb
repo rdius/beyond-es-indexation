{
 "cells": [
  {
   "cell_type": "code",
   "execution_count": 14,
   "metadata": {},
   "outputs": [],
   "source": [
    "import pandas as pd\n",
    "import json"
   ]
  },
  {
   "cell_type": "code",
   "execution_count": null,
   "metadata": {},
   "outputs": [],
   "source": []
  },
  {
   "cell_type": "code",
   "execution_count": 15,
   "metadata": {},
   "outputs": [],
   "source": [
    "def save_to_jsonl(mtd, outfilename):\n",
    "    with open(outfilename, 'a+', encoding='utf8') as outfile:\n",
    "        #for entry in JSON_file:\n",
    "        json.dump(mtd, outfile, ensure_ascii=False)\n",
    "        outfile.write('\\n')"
   ]
  },
  {
   "cell_type": "code",
   "execution_count": 5,
   "metadata": {},
   "outputs": [],
   "source": [
    "###############\n",
    "# Use this fnx to get all habitats for a given micro-organism\n",
    "# Input : data -> relations.full pandas Dataframe\n",
    "# Output : Jsonl file from save_to_jsonl() fnx, to be indexed in ES (logstash input)\n",
    "#############\n",
    "def process_beyond_db(data):\n",
    "    longList = []\n",
    "    D = {}\n",
    "    data['orgdict']=data[['form_microorganism','taxid','pmid','paths_microorganism', 'offset_microorganism', 'form_habitat']].to_dict(\"records\")\n",
    "    data['microorganism'] = 'microorganism'\n",
    "    df = data[['microorganism','orgdict']]\n",
    "    df['microorganism'] = df['microorganism'].apply(str) #Converting integer column 'label' to string\n",
    "    df = df.groupby('microorganism')['orgdict'].apply(list) \n",
    "    desired_dict = df.to_dict()\n",
    "    \n",
    "    data['habtdict']=data[['form_habitat','obtid','pmid','paths_habitat', 'offset_habitat']].to_dict(\"records\")\n",
    "    data['habitat'] = 'habitat'\n",
    "    df = data[['habitat','habtdict']]\n",
    "    df['habitat'] = df['habitat'].apply(str) #Converting integer column 'label' to string\n",
    "    df = df.groupby('habitat')['habtdict'].apply(list) \n",
    "    desired_dict_hab = df.to_dict()\n",
    "    \n",
    "    d = (pd.DataFrame(desired_dict['microorganism'])\n",
    "       .groupby(['form_microorganism'])\n",
    "       .agg(set)\n",
    "       .reset_index()\n",
    "       .to_dict('r'))\n",
    "    \n",
    "    dhb = (pd.DataFrame(desired_dict_hab['habitat'])\n",
    "       .groupby(['form_habitat'])\n",
    "       .agg(set)\n",
    "       .reset_index()\n",
    "       .to_dict('r'))\n",
    "    \n",
    "    for v in d:\n",
    "        v['habitats'] = []\n",
    "        v['taxid'] = list(v['taxid'])[0]\n",
    "    #     v['pmid'] = list(v['pmid'])\n",
    "        v['pmid'] = [str(val) for val in list(v['pmid'])]\n",
    "        v['paths_microorganism'] = list(v['paths_microorganism'])[0]\n",
    "        v['offset_microorganism'] = list(v['offset_microorganism'])\n",
    "        v['form_habitat'] = list(v['form_habitat'])\n",
    "        \n",
    "    for v in dhb:\n",
    "    #     v['habitats'] = []\n",
    "        v['obtid'] = list(v['obtid'])[0]\n",
    "#         v['pmid'] = list(v['pmid'])\n",
    "        v['pmid'] = [str(val) for val in list(v['pmid'])]\n",
    "        v['paths_habitat'] = list(v['paths_habitat'])[0]\n",
    "        v['offset_habitat'] = list(v['offset_habitat'])[0]\n",
    "        \n",
    "    for i in range(len(d)):\n",
    "        for j in range(len(dhb)):\n",
    "            if dhb[j]['form_habitat'] in d[i]['form_habitat']:\n",
    "                d[i]['habitats'].append(dhb[j]) \n",
    "            #     print(dhb[0]['form_habitat'])\n",
    "    \n",
    "    # D['Microorganism'].append(d[0])\n",
    "    for mi in d:\n",
    "#         D = {}\n",
    "        D['Microorganism'] = []\n",
    "        D['Microorganism'].append(mi)\n",
    "#         save_to_jsonl(D, 'beyond_db_for_nested_test.jsonl')\n",
    "#         longList.append(D)\n",
    "#     return longList\n",
    "    return D"
   ]
  },
  {
   "cell_type": "code",
   "execution_count": 6,
   "metadata": {},
   "outputs": [
    {
     "data": {
      "application/javascript": [
       "\n",
       "        if (window._pyforest_update_imports_cell) { window._pyforest_update_imports_cell('import pandas as pd'); }\n",
       "    "
      ],
      "text/plain": [
       "<IPython.core.display.Javascript object>"
      ]
     },
     "metadata": {},
     "output_type": "display_data"
    }
   ],
   "source": [
    "file = \"/home/rodrique/Bureau/Jupyter-notebook/Beyond/data-examples_v1/relations.full.tsv/relations_min.tsv\"\n",
    "df = pd.read_csv(file, sep = '\\t')"
   ]
  },
  {
   "cell_type": "code",
   "execution_count": 7,
   "metadata": {},
   "outputs": [],
   "source": [
    "df_min = df[:100]"
   ]
  },
  {
   "cell_type": "code",
   "execution_count": 8,
   "metadata": {},
   "outputs": [
    {
     "data": {
      "text/plain": [
       "Index(['batch', 'pmid', 'section', 'taxid', 'form_microorganism',\n",
       "       'lemma_microorganism', 'canonical_microorganism', 'paths_microorganism',\n",
       "       'obtid', 'form_habitat', 'lemma_habitat', 'canonical_habitat',\n",
       "       'paths_habitat', 'offset_microorganism', 'offset_habitat'],\n",
       "      dtype='object')"
      ]
     },
     "execution_count": 8,
     "metadata": {},
     "output_type": "execute_result"
    }
   ],
   "source": [
    "df_min.columns"
   ]
  },
  {
   "cell_type": "code",
   "execution_count": 20,
   "metadata": {},
   "outputs": [],
   "source": [
    "# df_min = df_min[['taxid', 'form_microorganism',\n",
    "#        'obtid', 'form_habitat']]"
   ]
  },
  {
   "cell_type": "code",
   "execution_count": null,
   "metadata": {},
   "outputs": [],
   "source": []
  },
  {
   "cell_type": "code",
   "execution_count": 9,
   "metadata": {},
   "outputs": [
    {
     "data": {
      "text/html": [
       "<div>\n",
       "<style scoped>\n",
       "    .dataframe tbody tr th:only-of-type {\n",
       "        vertical-align: middle;\n",
       "    }\n",
       "\n",
       "    .dataframe tbody tr th {\n",
       "        vertical-align: top;\n",
       "    }\n",
       "\n",
       "    .dataframe thead th {\n",
       "        text-align: right;\n",
       "    }\n",
       "</style>\n",
       "<table border=\"1\" class=\"dataframe\">\n",
       "  <thead>\n",
       "    <tr style=\"text-align: right;\">\n",
       "      <th></th>\n",
       "      <th>batch</th>\n",
       "      <th>pmid</th>\n",
       "      <th>section</th>\n",
       "      <th>taxid</th>\n",
       "      <th>form_microorganism</th>\n",
       "      <th>lemma_microorganism</th>\n",
       "      <th>canonical_microorganism</th>\n",
       "      <th>paths_microorganism</th>\n",
       "      <th>obtid</th>\n",
       "      <th>form_habitat</th>\n",
       "      <th>lemma_habitat</th>\n",
       "      <th>canonical_habitat</th>\n",
       "      <th>paths_habitat</th>\n",
       "      <th>offset_microorganism</th>\n",
       "      <th>offset_habitat</th>\n",
       "    </tr>\n",
       "  </thead>\n",
       "  <tbody>\n",
       "    <tr>\n",
       "      <th>0</th>\n",
       "      <td>0</td>\n",
       "      <td>7811023.0</td>\n",
       "      <td>abstract</td>\n",
       "      <td>ncbi:5722</td>\n",
       "      <td>Trichomonas vaginalis</td>\n",
       "      <td>Trichomonas_vaginalis</td>\n",
       "      <td>Trichomonas vaginalis</td>\n",
       "      <td>/ncbi:1/ncbi:131567/ncbi:2759/ncbi:2611341/ncb...</td>\n",
       "      <td>OBT:003220</td>\n",
       "      <td>AIDS patients</td>\n",
       "      <td>AIDS patient</td>\n",
       "      <td>patient</td>\n",
       "      <td>/OBT:000001/OBT:000010/OBT:000089/OBT:000193/O...</td>\n",
       "      <td>266-287</td>\n",
       "      <td>335-348</td>\n",
       "    </tr>\n",
       "    <tr>\n",
       "      <th>1</th>\n",
       "      <td>0</td>\n",
       "      <td>7811023.0</td>\n",
       "      <td>abstract</td>\n",
       "      <td>ncbi:5741</td>\n",
       "      <td>Giardia lamblia</td>\n",
       "      <td>Giardia_lamblia</td>\n",
       "      <td>Giardia intestinalis</td>\n",
       "      <td>/ncbi:1/ncbi:131567/ncbi:2759/ncbi:2611341/ncb...</td>\n",
       "      <td>OBT:003220</td>\n",
       "      <td>AIDS patients</td>\n",
       "      <td>AIDS patient</td>\n",
       "      <td>patient</td>\n",
       "      <td>/OBT:000001/OBT:000010/OBT:000089/OBT:000193/O...</td>\n",
       "      <td>292-307</td>\n",
       "      <td>335-348</td>\n",
       "    </tr>\n",
       "    <tr>\n",
       "      <th>2</th>\n",
       "      <td>0</td>\n",
       "      <td>23481468.0</td>\n",
       "      <td>abstract</td>\n",
       "      <td>ncbi:562</td>\n",
       "      <td>Escherichia coli</td>\n",
       "      <td>Escherichia_coli</td>\n",
       "      <td>Escherichia coli</td>\n",
       "      <td>/ncbi:1/ncbi:131567/ncbi:2/ncbi:1224/ncbi:1236...</td>\n",
       "      <td>OBT:000062</td>\n",
       "      <td>mammalian cell culture</td>\n",
       "      <td>mammalian cell culture</td>\n",
       "      <td>cell culture</td>\n",
       "      <td>/OBT:000001/OBT:000007/OBT:000062</td>\n",
       "      <td>361-377</td>\n",
       "      <td>379-401</td>\n",
       "    </tr>\n",
       "    <tr>\n",
       "      <th>3</th>\n",
       "      <td>0</td>\n",
       "      <td>23481468.0</td>\n",
       "      <td>abstract</td>\n",
       "      <td>ncbi:562</td>\n",
       "      <td>Escherichia coli</td>\n",
       "      <td>Escherichia_coli</td>\n",
       "      <td>Escherichia coli</td>\n",
       "      <td>/ncbi:1/ncbi:131567/ncbi:2/ncbi:1224/ncbi:1236...</td>\n",
       "      <td>OBT:000061</td>\n",
       "      <td>mammalian cell</td>\n",
       "      <td>mammalian cell</td>\n",
       "      <td>cell</td>\n",
       "      <td>/OBT:000001/OBT:000014/OBT:000061</td>\n",
       "      <td>361-377</td>\n",
       "      <td>379-393</td>\n",
       "    </tr>\n",
       "    <tr>\n",
       "      <th>4</th>\n",
       "      <td>0</td>\n",
       "      <td>23481468.0</td>\n",
       "      <td>abstract</td>\n",
       "      <td>ncbi:562</td>\n",
       "      <td>Escherichia coli</td>\n",
       "      <td>Escherichia_coli</td>\n",
       "      <td>Escherichia coli</td>\n",
       "      <td>/ncbi:1/ncbi:131567/ncbi:2/ncbi:1224/ncbi:1236...</td>\n",
       "      <td>OBT:001625</td>\n",
       "      <td>mammalian</td>\n",
       "      <td>mammalian</td>\n",
       "      <td>mammalian</td>\n",
       "      <td>/OBT:000001/OBT:000010/OBT:000089/OBT:000193/O...</td>\n",
       "      <td>361-377</td>\n",
       "      <td>379-388</td>\n",
       "    </tr>\n",
       "  </tbody>\n",
       "</table>\n",
       "</div>"
      ],
      "text/plain": [
       "   batch        pmid   section      taxid     form_microorganism  \\\n",
       "0      0   7811023.0  abstract  ncbi:5722  Trichomonas vaginalis   \n",
       "1      0   7811023.0  abstract  ncbi:5741        Giardia lamblia   \n",
       "2      0  23481468.0  abstract   ncbi:562       Escherichia coli   \n",
       "3      0  23481468.0  abstract   ncbi:562       Escherichia coli   \n",
       "4      0  23481468.0  abstract   ncbi:562       Escherichia coli   \n",
       "\n",
       "     lemma_microorganism canonical_microorganism  \\\n",
       "0  Trichomonas_vaginalis   Trichomonas vaginalis   \n",
       "1        Giardia_lamblia    Giardia intestinalis   \n",
       "2       Escherichia_coli        Escherichia coli   \n",
       "3       Escherichia_coli        Escherichia coli   \n",
       "4       Escherichia_coli        Escherichia coli   \n",
       "\n",
       "                                 paths_microorganism       obtid  \\\n",
       "0  /ncbi:1/ncbi:131567/ncbi:2759/ncbi:2611341/ncb...  OBT:003220   \n",
       "1  /ncbi:1/ncbi:131567/ncbi:2759/ncbi:2611341/ncb...  OBT:003220   \n",
       "2  /ncbi:1/ncbi:131567/ncbi:2/ncbi:1224/ncbi:1236...  OBT:000062   \n",
       "3  /ncbi:1/ncbi:131567/ncbi:2/ncbi:1224/ncbi:1236...  OBT:000061   \n",
       "4  /ncbi:1/ncbi:131567/ncbi:2/ncbi:1224/ncbi:1236...  OBT:001625   \n",
       "\n",
       "             form_habitat           lemma_habitat canonical_habitat  \\\n",
       "0           AIDS patients            AIDS patient           patient   \n",
       "1           AIDS patients            AIDS patient           patient   \n",
       "2  mammalian cell culture  mammalian cell culture      cell culture   \n",
       "3          mammalian cell          mammalian cell              cell   \n",
       "4               mammalian               mammalian         mammalian   \n",
       "\n",
       "                                       paths_habitat offset_microorganism  \\\n",
       "0  /OBT:000001/OBT:000010/OBT:000089/OBT:000193/O...              266-287   \n",
       "1  /OBT:000001/OBT:000010/OBT:000089/OBT:000193/O...              292-307   \n",
       "2                  /OBT:000001/OBT:000007/OBT:000062              361-377   \n",
       "3                  /OBT:000001/OBT:000014/OBT:000061              361-377   \n",
       "4  /OBT:000001/OBT:000010/OBT:000089/OBT:000193/O...              361-377   \n",
       "\n",
       "  offset_habitat  \n",
       "0        335-348  \n",
       "1        335-348  \n",
       "2        379-401  \n",
       "3        379-393  \n",
       "4        379-388  "
      ]
     },
     "execution_count": 9,
     "metadata": {},
     "output_type": "execute_result"
    }
   ],
   "source": [
    "df_min.head()"
   ]
  },
  {
   "cell_type": "code",
   "execution_count": 11,
   "metadata": {
    "collapsed": true
   },
   "outputs": [
    {
     "name": "stderr",
     "output_type": "stream",
     "text": [
      "/home/rodrique/anaconda3/lib/python3.7/site-packages/ipykernel_launcher.py:9: SettingWithCopyWarning: \n",
      "A value is trying to be set on a copy of a slice from a DataFrame.\n",
      "Try using .loc[row_indexer,col_indexer] = value instead\n",
      "\n",
      "See the caveats in the documentation: https://pandas.pydata.org/pandas-docs/stable/user_guide/indexing.html#returning-a-view-versus-a-copy\n",
      "  if __name__ == '__main__':\n",
      "/home/rodrique/anaconda3/lib/python3.7/site-packages/ipykernel_launcher.py:10: SettingWithCopyWarning: \n",
      "A value is trying to be set on a copy of a slice from a DataFrame.\n",
      "Try using .loc[row_indexer,col_indexer] = value instead\n",
      "\n",
      "See the caveats in the documentation: https://pandas.pydata.org/pandas-docs/stable/user_guide/indexing.html#returning-a-view-versus-a-copy\n",
      "  # Remove the CWD from sys.path while we load stuff.\n",
      "/home/rodrique/anaconda3/lib/python3.7/site-packages/ipykernel_launcher.py:12: SettingWithCopyWarning: \n",
      "A value is trying to be set on a copy of a slice from a DataFrame.\n",
      "Try using .loc[row_indexer,col_indexer] = value instead\n",
      "\n",
      "See the caveats in the documentation: https://pandas.pydata.org/pandas-docs/stable/user_guide/indexing.html#returning-a-view-versus-a-copy\n",
      "  if sys.path[0] == '':\n",
      "/home/rodrique/anaconda3/lib/python3.7/site-packages/ipykernel_launcher.py:16: SettingWithCopyWarning: \n",
      "A value is trying to be set on a copy of a slice from a DataFrame.\n",
      "Try using .loc[row_indexer,col_indexer] = value instead\n",
      "\n",
      "See the caveats in the documentation: https://pandas.pydata.org/pandas-docs/stable/user_guide/indexing.html#returning-a-view-versus-a-copy\n",
      "  app.launch_new_instance()\n",
      "/home/rodrique/anaconda3/lib/python3.7/site-packages/ipykernel_launcher.py:17: SettingWithCopyWarning: \n",
      "A value is trying to be set on a copy of a slice from a DataFrame.\n",
      "Try using .loc[row_indexer,col_indexer] = value instead\n",
      "\n",
      "See the caveats in the documentation: https://pandas.pydata.org/pandas-docs/stable/user_guide/indexing.html#returning-a-view-versus-a-copy\n",
      "/home/rodrique/anaconda3/lib/python3.7/site-packages/ipykernel_launcher.py:19: SettingWithCopyWarning: \n",
      "A value is trying to be set on a copy of a slice from a DataFrame.\n",
      "Try using .loc[row_indexer,col_indexer] = value instead\n",
      "\n",
      "See the caveats in the documentation: https://pandas.pydata.org/pandas-docs/stable/user_guide/indexing.html#returning-a-view-versus-a-copy\n"
     ]
    },
    {
     "data": {
      "application/javascript": [
       "\n",
       "        if (window._pyforest_update_imports_cell) { window._pyforest_update_imports_cell('import pandas as pd'); }\n",
       "    "
      ],
      "text/plain": [
       "<IPython.core.display.Javascript object>"
      ]
     },
     "metadata": {},
     "output_type": "display_data"
    },
    {
     "name": "stderr",
     "output_type": "stream",
     "text": [
      "/home/rodrique/anaconda3/lib/python3.7/site-packages/ipykernel_launcher.py:27: FutureWarning: Using short name for 'orient' is deprecated. Only the options: ('dict', list, 'series', 'split', 'records', 'index') will be used in a future version. Use one of the above to silence this warning.\n"
     ]
    },
    {
     "data": {
      "application/javascript": [
       "\n",
       "        if (window._pyforest_update_imports_cell) { window._pyforest_update_imports_cell('import pandas as pd'); }\n",
       "    "
      ],
      "text/plain": [
       "<IPython.core.display.Javascript object>"
      ]
     },
     "metadata": {},
     "output_type": "display_data"
    },
    {
     "name": "stderr",
     "output_type": "stream",
     "text": [
      "/home/rodrique/anaconda3/lib/python3.7/site-packages/ipykernel_launcher.py:33: FutureWarning: Using short name for 'orient' is deprecated. Only the options: ('dict', list, 'series', 'split', 'records', 'index') will be used in a future version. Use one of the above to silence this warning.\n"
     ]
    },
    {
     "data": {
      "text/plain": [
       "{'Microorganism': [{'form_microorganism': 'viruses',\n",
       "   'taxid': 'ncbi:10239',\n",
       "   'pmid': ['28688828.0'],\n",
       "   'paths_microorganism': '/ncbi:1/ncbi:10239',\n",
       "   'offset_microorganism': ['11-18'],\n",
       "   'form_habitat': ['community clinics', 'patients with diarrheal'],\n",
       "   'habitats': [{'form_habitat': 'community clinics',\n",
       "     'obtid': 'OBT:002694',\n",
       "     'pmid': ['28688828.0'],\n",
       "     'paths_habitat': '/OBT:000001/OBT:000006/OBT:000066/OBT:000403/OBT:000963/OBT:002518/OBT:002694,/OBT:000001/OBT:000011/OBT:002518/OBT:002694',\n",
       "     'offset_habitat': '84-101'},\n",
       "    {'form_habitat': 'patients with diarrheal',\n",
       "     'obtid': 'OBT:003220',\n",
       "     'pmid': ['28688828.0'],\n",
       "     'paths_habitat': '/OBT:000001/OBT:000010/OBT:000089/OBT:000193/OBT:000491/OBT:003156/OBT:003220,/OBT:000001/OBT:000010/OBT:000089/OBT:000193/OBT:000946/OBT:001374/OBT:001625/OBT:002201/OBT:002488/OBT:003156/OBT:003220',\n",
       "     'offset_habitat': '56-79'}]}]}"
      ]
     },
     "execution_count": 11,
     "metadata": {},
     "output_type": "execute_result"
    }
   ],
   "source": [
    "D = process_beyond_db(df_min)\n",
    "D"
   ]
  },
  {
   "cell_type": "code",
   "execution_count": null,
   "metadata": {},
   "outputs": [],
   "source": []
  },
  {
   "cell_type": "code",
   "execution_count": null,
   "metadata": {},
   "outputs": [],
   "source": []
  },
  {
   "cell_type": "code",
   "execution_count": null,
   "metadata": {},
   "outputs": [],
   "source": []
  },
  {
   "cell_type": "code",
   "execution_count": 9,
   "metadata": {},
   "outputs": [],
   "source": [
    "###### \n",
    "#  Use this fnx to get each relation (miroorganism <-> habitats) with translated paths\n",
    "# Build Losgstash input data for ES from these input data :\n",
    "# 1 - relations file\n",
    "# 2 - BioNLP_onto,\n",
    "# 3 - taxid_microorganisms\n",
    "#####\n",
    "def beyond_db_preprocessv1(relations,BioNLP_onto,taxid_microorganisms):\n",
    "#     relations = \"/home/rodrique/Bureau/Jupyter-notebook/Beyond/data-examples/relations.full.tsv/relations_min.tsv\"\n",
    "    data = pd.read_csv(relations, delimiter='\\t')\n",
    "    df = data[['form_microorganism', 'lemma_microorganism', 'paths_microorganism','pmid', 'section', 'taxid',\n",
    "        'canonical_microorganism', \n",
    "       'obtid', 'form_habitat', 'lemma_habitat', 'canonical_habitat',\n",
    "       'paths_habitat', 'offset_microorganism', 'offset_habitat']]\n",
    "    filtered_df = df[df['form_microorganism'].notnull()]\n",
    "    \n",
    "    filtered_df_dic = filtered_df.to_dict('records')\n",
    "    val = list(map(dict, set(tuple(sorted(d.items())) for d in filtered_df_dic)))\n",
    "    print(len(val))\n",
    "    \n",
    "    test = filtered_df[:5] # consider subset for test\n",
    "    \n",
    "    # define translated path --> ordered list of habitats\n",
    "    test['translated_path_habitat'] = test['paths_habitat'].str.split(\"/\")\n",
    "        \n",
    "    dc = {}\n",
    "    synod = {}\n",
    "    with open (BioNLP_onto, \"r\") as hfile:\n",
    "        sp = hfile.read()\n",
    "        lines = sp.split(\"\\n\\n\")\n",
    "        for line in lines:\n",
    "            item = line.split('\\n\\n\\n')\n",
    "            items = [i.split('\\n') for i in item]\n",
    "            items = [x.split(': ') for x in items[0]]\n",
    "            id_name = [l for l in items if l[0]=='id' or l[0]=='name']\n",
    "            syno =  [l for l in items if l[0]=='id' or l[0]=='synonym']\n",
    "\n",
    "            if len(id_name)>0:\n",
    "                dc[id_name[0][1]] = id_name[1][1]\n",
    "            #   print(syno)\n",
    "            ########## We can add synonyms if needed\n",
    "            if len(syno)>1:\n",
    "                synod[syno[0][1]] = [ i[1] for i in syno[1:]]\n",
    "            ############\n",
    "\n",
    "    for k,v in dc.items():\n",
    "        test['translated_path_habitat'] = test.apply(lambda x:[i.replace(k,v) for i in x['translated_path_habitat'] if i], axis=1)\n",
    "        \n",
    "    # pop current habitat from the path\n",
    "    test['translated_path_habitat'] = test['translated_path_habitat'].apply(lambda x:x[:-1])\n",
    "    \n",
    "    \n",
    "    ############Build translated path for each micro-organism\n",
    "#     taxid_microorganisms = '/home/rodrique/Bureau/Jupyter-notebook/Beyond/data-examples/taxid_microorganisms.tsv/taxid_microorganisms.tsv'\n",
    "    taxid_data = pd.read_csv(taxid_microorganisms, delimiter='\\t')\n",
    "    \n",
    "    taxid_data = taxid_data[ ['taxid', 'taxon']]\n",
    "    \n",
    "    taxid_data_dic = taxid_data.set_index('taxid').T.to_dict('r')\n",
    "    \n",
    "    test['translated_paths_microorganism'] = test['paths_microorganism'].str.split(\"/\")\n",
    "    \n",
    "    for k,v in taxid_data_dic[0].items():\n",
    "        test['translated_paths_microorganism'] = test.apply(lambda x:[i.replace(k,v) for i in x['translated_paths_microorganism'] if i], axis=1)\n",
    "    \n",
    "    # pop current habitat from the path\n",
    "    test['translated_paths_microorganism'] = test['translated_paths_microorganism'].apply(lambda x:x[:-1])\n",
    "\n",
    "    test_dic = test.to_dict('records')    \n",
    "    for d in test_dic:\n",
    "        d['pmid'] = str(d['pmid'])\n",
    "        \n",
    "    ################### Save record!\n",
    "    for mtd in test_dic:\n",
    "        save_to_jsonl(mtd, 'beyond_db_uniq5.jsonl')"
   ]
  },
  {
   "cell_type": "code",
   "execution_count": null,
   "metadata": {},
   "outputs": [],
   "source": [
    "###### \n",
    "#  Use this fnx to get each relation (miroorganism <-> habitats) with translated paths\n",
    "# Build Losgstash input data for ES from these input data :\n",
    "# 1 - relations file\n",
    "# 2 - BioNLP_onto,\n",
    "# 3 - taxid_microorganisms\n",
    "#####\n",
    "def beyond_db_preprocessv2(relations,cols,BioNLP_onto,taxid_microorganisms):\n",
    "#     relations = \"/home/rodrique/Bureau/Jupyter-notebook/Beyond/data-examples/relations.full.tsv/relations_min.tsv\"\n",
    "    data = pd.read_csv(relations, delimiter='\\t')\n",
    "    df = data[cols]\n",
    "    filtered_df = df[df['form_microorganism'].notnull()]\n",
    "    \n",
    "    filtered_df_dic = filtered_df.to_dict('records')\n",
    "    val = list(map(dict, set(tuple(sorted(d.items())) for d in filtered_df_dic)))\n",
    "    print(len(val))\n",
    "    \n",
    "    test = filtered_df[:5] # consider subset for test\n",
    "    \n",
    "    # define translated path --> ordered list of habitats\n",
    "    test['translated_path_habitat'] = test['paths_habitat'].str.split(\"/\")\n",
    "        \n",
    "    dc = {}\n",
    "    synod = {}\n",
    "    with open (BioNLP_onto, \"r\") as hfile:\n",
    "        sp = hfile.read()\n",
    "        lines = sp.split(\"\\n\\n\")\n",
    "        for line in lines:\n",
    "            item = line.split('\\n\\n\\n')\n",
    "            items = [i.split('\\n') for i in item]\n",
    "            items = [x.split(': ') for x in items[0]]\n",
    "            id_name = [l for l in items if l[0]=='id' or l[0]=='name']\n",
    "            syno =  [l for l in items if l[0]=='id' or l[0]=='synonym']\n",
    "\n",
    "            if len(id_name)>0:\n",
    "                dc[id_name[0][1]] = id_name[1][1]\n",
    "            #   print(syno)\n",
    "            ########## We can add synonyms if needed\n",
    "            if len(syno)>1:\n",
    "                synod[syno[0][1]] = [ i[1] for i in syno[1:]]\n",
    "            ############\n",
    "\n",
    "    for k,v in dc.items():\n",
    "        test['translated_path_habitat'] = test.apply(lambda x:[i.replace(k,v) for i in x['translated_path_habitat'] if i], axis=1)\n",
    "        \n",
    "    # pop current habitat from the path\n",
    "    test['translated_path_habitat'] = test['translated_path_habitat'].apply(lambda x:x[:-1])\n",
    "    \n",
    "    \n",
    "    ############Build translated path for each micro-organism\n",
    "#     taxid_microorganisms = '/home/rodrique/Bureau/Jupyter-notebook/Beyond/data-examples/taxid_microorganisms.tsv/taxid_microorganisms.tsv'\n",
    "    taxid_data = pd.read_csv(taxid_microorganisms, delimiter='\\t')\n",
    "    \n",
    "    taxid_data = taxid_data[ ['taxid', 'taxon']]\n",
    "    \n",
    "    taxid_data_dic = taxid_data.set_index('taxid').T.to_dict('r')\n",
    "    \n",
    "    test['translated_paths_microorganism'] = test['paths_microorganism'].str.split(\"/\")\n",
    "    \n",
    "    for k,v in taxid_data_dic[0].items():\n",
    "        test['translated_paths_microorganism'] = test.apply(lambda x:[i.replace(k,v) for i in x['translated_paths_microorganism'] if i], axis=1)\n",
    "    \n",
    "    # pop current habitat from the path\n",
    "    test['translated_paths_microorganism'] = test['translated_paths_microorganism'].apply(lambda x:x[:-1])\n",
    "\n",
    "    test_dic = test.to_dict('records')    \n",
    "    for d in test_dic:\n",
    "        d['pmid'] = str(d['pmid'])\n",
    "        \n",
    "    ################### Save record!\n",
    "    for mtd in test_dic:\n",
    "        save_to_jsonl(mtd, 'beyond_db_uniq5.jsonl')"
   ]
  },
  {
   "cell_type": "code",
   "execution_count": null,
   "metadata": {},
   "outputs": [],
   "source": []
  },
  {
   "cell_type": "code",
   "execution_count": null,
   "metadata": {},
   "outputs": [],
   "source": [
    "Index(['taxid', 'form_microorganism','paths_microorganism',\n",
    "       'obtid_mi', 'form_habitat',       'paths_habitat', \n",
    "       'offset_microorganism_mi', 'offset_habitat',\n",
    "      'obtid_hbt', 'form_phenotype',\n",
    "       'lemma_phenotype', 'canonical_phenotype', 'paths_phenotype',\n",
    "       'offset_microorganism_hbt', 'offset_phenotype',\n",
    "       'section_use', 'obtid_use', 'form_use', 'lemma_use', 'canonical_use',\n",
    "       'paths_use', 'offset_microorganism_use', 'offset_use']"
   ]
  },
  {
   "cell_type": "code",
   "execution_count": null,
   "metadata": {},
   "outputs": [],
   "source": []
  },
  {
   "cell_type": "code",
   "execution_count": 10,
   "metadata": {},
   "outputs": [],
   "source": [
    "relations = \"../data-examples/relations.full.tsv/relations_min.tsv\"\n",
    "full_relations = \"/home/rodrique/Bureau/Jupyter-notebook/Beyond/data-examples/data/min/full_relations.csv\"\n",
    "BioNLP_onto = '../data-examples/BioNLP-OST+EnovFood.txt'\n",
    "taxid_microorganisms = '../data-examples/taxid_microorganisms.tsv/taxid_microorganisms.tsv'"
   ]
  },
  {
   "cell_type": "code",
   "execution_count": 11,
   "metadata": {
    "collapsed": true
   },
   "outputs": [
    {
     "name": "stderr",
     "output_type": "stream",
     "text": [
      "/home/rodrique/anaconda3/lib/python3.7/site-packages/ipykernel_launcher.py:1: DtypeWarning: Columns (2,3,4,5,6,7,8,9,10,11,12,13,14) have mixed types.Specify dtype option on import or set low_memory=False.\n",
      "  \"\"\"Entry point for launching an IPython kernel.\n"
     ]
    },
    {
     "name": "stdout",
     "output_type": "stream",
     "text": [
      "100309\n"
     ]
    },
    {
     "name": "stderr",
     "output_type": "stream",
     "text": [
      "/home/rodrique/anaconda3/lib/python3.7/site-packages/ipykernel_launcher.py:24: SettingWithCopyWarning: \n",
      "A value is trying to be set on a copy of a slice from a DataFrame.\n",
      "Try using .loc[row_indexer,col_indexer] = value instead\n",
      "\n",
      "See the caveats in the documentation: https://pandas.pydata.org/pandas-docs/stable/user_guide/indexing.html#returning-a-view-versus-a-copy\n",
      "/home/rodrique/anaconda3/lib/python3.7/site-packages/ipykernel_launcher.py:50: SettingWithCopyWarning: \n",
      "A value is trying to be set on a copy of a slice from a DataFrame.\n",
      "Try using .loc[row_indexer,col_indexer] = value instead\n",
      "\n",
      "See the caveats in the documentation: https://pandas.pydata.org/pandas-docs/stable/user_guide/indexing.html#returning-a-view-versus-a-copy\n",
      "/home/rodrique/anaconda3/lib/python3.7/site-packages/ipykernel_launcher.py:53: SettingWithCopyWarning: \n",
      "A value is trying to be set on a copy of a slice from a DataFrame.\n",
      "Try using .loc[row_indexer,col_indexer] = value instead\n",
      "\n",
      "See the caveats in the documentation: https://pandas.pydata.org/pandas-docs/stable/user_guide/indexing.html#returning-a-view-versus-a-copy\n",
      "/home/rodrique/anaconda3/lib/python3.7/site-packages/ipykernel_launcher.py:62: FutureWarning: Using short name for 'orient' is deprecated. Only the options: ('dict', list, 'series', 'split', 'records', 'index') will be used in a future version. Use one of the above to silence this warning.\n",
      "/home/rodrique/anaconda3/lib/python3.7/site-packages/ipykernel_launcher.py:64: SettingWithCopyWarning: \n",
      "A value is trying to be set on a copy of a slice from a DataFrame.\n",
      "Try using .loc[row_indexer,col_indexer] = value instead\n",
      "\n",
      "See the caveats in the documentation: https://pandas.pydata.org/pandas-docs/stable/user_guide/indexing.html#returning-a-view-versus-a-copy\n",
      "/home/rodrique/anaconda3/lib/python3.7/site-packages/ipykernel_launcher.py:67: SettingWithCopyWarning: \n",
      "A value is trying to be set on a copy of a slice from a DataFrame.\n",
      "Try using .loc[row_indexer,col_indexer] = value instead\n",
      "\n",
      "See the caveats in the documentation: https://pandas.pydata.org/pandas-docs/stable/user_guide/indexing.html#returning-a-view-versus-a-copy\n"
     ]
    }
   ],
   "source": [
    "beyond_db_preprocess(relations,BioNLP_onto,taxid_microorganisms)"
   ]
  },
  {
   "cell_type": "code",
   "execution_count": null,
   "metadata": {},
   "outputs": [],
   "source": []
  },
  {
   "cell_type": "code",
   "execution_count": null,
   "metadata": {},
   "outputs": [],
   "source": [
    "############ Additional data\n",
    "# * relation exhibitsentre Taxon et Phenotype\n",
    "# * relation studied for entre Taxon et Use\n",
    "# Vous aviez déja eu la relation lives in entre Taxon et Habitat\n",
    "##########"
   ]
  },
  {
   "cell_type": "code",
   "execution_count": null,
   "metadata": {},
   "outputs": [],
   "source": []
  },
  {
   "cell_type": "code",
   "execution_count": null,
   "metadata": {},
   "outputs": [],
   "source": []
  },
  {
   "cell_type": "code",
   "execution_count": null,
   "metadata": {},
   "outputs": [],
   "source": []
  }
 ],
 "metadata": {
  "kernelspec": {
   "display_name": "Python 3 (ipykernel)",
   "language": "python",
   "name": "python3"
  },
  "language_info": {
   "codemirror_mode": {
    "name": "ipython",
    "version": 3
   },
   "file_extension": ".py",
   "mimetype": "text/x-python",
   "name": "python",
   "nbconvert_exporter": "python",
   "pygments_lexer": "ipython3",
   "version": "3.10.6"
  }
 },
 "nbformat": 4,
 "nbformat_minor": 4
}
